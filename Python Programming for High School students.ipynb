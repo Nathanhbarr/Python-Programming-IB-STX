{
 "cells": [
  {
   "cell_type": "markdown",
   "id": "c5c01724",
   "metadata": {},
   "source": [
    "# Python Programming\n",
    "\n",
    "Not that hard!!!! \n",
    "\n",
    "You just need access to a computer or a Texas instruments product with python capabilities.\n",
    "\n",
    "But you need to learn many things: \n",
    "- Grammar \n",
    "- Systematical thinking \n",
    "- How computers think\n",
    "- How to read errors\n",
    "\n",
    "Lets jump straight into it and look at what happens first in python programming."
   ]
  },
  {
   "cell_type": "code",
   "execution_count": 3,
   "id": "9cc06743",
   "metadata": {},
   "outputs": [],
   "source": [
    "import math"
   ]
  },
  {
   "cell_type": "markdown",
   "id": "b029d90d",
   "metadata": {},
   "source": [
    "# Description of the import step\n",
    "\n",
    "People have programmed \"packages\". These are self contained piece of code encapsulating many useful functions. A function is a recipe that does something. For example i can \"call\" a certain function \"sin\" from math. When i place a number in it, the function does something to my number then i get another number. "
   ]
  },
  {
   "cell_type": "code",
   "execution_count": 9,
   "id": "e03cd29b",
   "metadata": {},
   "outputs": [],
   "source": [
    "result = math.sin(1)"
   ]
  },
  {
   "cell_type": "markdown",
   "id": "3dcb3ca6",
   "metadata": {},
   "source": [
    "But i can not see my \"result\", i need to print it. This is a command (function) that prints the result out."
   ]
  },
  {
   "cell_type": "code",
   "execution_count": 10,
   "id": "5fa5d33d",
   "metadata": {},
   "outputs": [
    {
     "name": "stdout",
     "output_type": "stream",
     "text": [
      "0.8414709848078965\n"
     ]
    }
   ],
   "source": [
    "print(result)"
   ]
  },
  {
   "cell_type": "markdown",
   "id": "4ea3c1f7",
   "metadata": {},
   "source": [
    "My result when I place 1 into the sin function is 0.8414709848078965."
   ]
  },
  {
   "cell_type": "markdown",
   "id": "94125c3d",
   "metadata": {},
   "source": [
    "People have developed alot of useful function for us to use. If they did not then we would have to spend many hours our self programming these functions, but we can just **import** the **package** of functions and they are then ready to use."
   ]
  },
  {
   "cell_type": "markdown",
   "id": "84bebe54",
   "metadata": {},
   "source": [
    "You might already be able to spot some grammar in the above code. If i want to use the function sin, I first need to tell the computer which package it needs to look at, then place a fullstop, then write the name of the function. The general idea is **Package**.**Function**"
   ]
  },
  {
   "cell_type": "markdown",
   "id": "d792e3dd",
   "metadata": {},
   "source": [
    "# How a script would look like\n",
    "\n",
    "This script plots two points. As you can see the first two lines import packages, the third and fourth line creates two values for x and y, these form two points. The last two lines create a figure with the two points create and shows the plot."
   ]
  },
  {
   "cell_type": "code",
   "execution_count": 19,
   "id": "5301c2cd",
   "metadata": {},
   "outputs": [
    {
     "data": {
      "image/png": "[encoded data removed]",
      "text/plain": [
       "<Figure size 640x480 with 1 Axes>"
      ]
     },
     "metadata": {},
     "output_type": "display_data"
    }
   ],
   "source": [
    "import math\n",
    "import matplotlib.pyplot as plt\n",
    "\n",
    "x = [0, 2]\n",
    "y = [2, 4]\n",
    "\n",
    "plt.scatter(x,y)\n",
    "plt.show()\n"
   ]
  },
  {
   "cell_type": "markdown",
   "id": "7ed9edab",
   "metadata": {},
   "source": [
    "# Delving deeper into packages and functions\n",
    "To find out what packages are currently imported, you can use the following command and look through the list. You should see the math, plt packages there, also our two variables we created for the plot."
   ]
  },
  {
   "cell_type": "code",
   "execution_count": 23,
   "id": "2e64d462",
   "metadata": {},
   "outputs": [
    {
     "data": {
      "text/plain": [
       "['In',\n",
       " 'Out',\n",
       " '_',\n",
       " '_14',\n",
       " '_20',\n",
       " '_21',\n",
       " '__',\n",
       " '___',\n",
       " '__builtin__',\n",
       " '__builtins__',\n",
       " '__doc__',\n",
       " '__loader__',\n",
       " '__name__',\n",
       " '__package__',\n",
       " '__spec__',\n",
       " '_dh',\n",
       " '_i',\n",
       " '_i1',\n",
       " '_i10',\n",
       " '_i11',\n",
       " '_i12',\n",
       " '_i13',\n",
       " '_i14',\n",
       " '_i15',\n",
       " '_i16',\n",
       " '_i17',\n",
       " '_i18',\n",
       " '_i19',\n",
       " '_i2',\n",
       " '_i20',\n",
       " '_i21',\n",
       " '_i22',\n",
       " '_i23',\n",
       " '_i3',\n",
       " '_i4',\n",
       " '_i5',\n",
       " '_i6',\n",
       " '_i7',\n",
       " '_i8',\n",
       " '_i9',\n",
       " '_ih',\n",
       " '_ii',\n",
       " '_iii',\n",
       " '_oh',\n",
       " 'exit',\n",
       " 'get_ipython',\n",
       " 'math',\n",
       " 'plt',\n",
       " 'quit',\n",
       " 'result',\n",
       " 'resultat',\n",
       " 'x',\n",
       " 'y']"
      ]
     },
     "execution_count": 23,
     "metadata": {},
     "output_type": "execute_result"
    }
   ],
   "source": [
    "dir()"
   ]
  },
  {
   "cell_type": "markdown",
   "id": "60476a24",
   "metadata": {},
   "source": [
    "If you want to see what functions are in a package. You can use dir(function)."
   ]
  },
  {
   "cell_type": "code",
   "execution_count": 21,
   "id": "26146472",
   "metadata": {},
   "outputs": [
    {
     "data": {
      "text/plain": [
       "['__doc__',\n",
       " '__loader__',\n",
       " '__name__',\n",
       " '__package__',\n",
       " '__spec__',\n",
       " 'acos',\n",
       " 'acosh',\n",
       " 'asin',\n",
       " 'asinh',\n",
       " 'atan',\n",
       " 'atan2',\n",
       " 'atanh',\n",
       " 'ceil',\n",
       " 'comb',\n",
       " 'copysign',\n",
       " 'cos',\n",
       " 'cosh',\n",
       " 'degrees',\n",
       " 'dist',\n",
       " 'e',\n",
       " 'erf',\n",
       " 'erfc',\n",
       " 'exp',\n",
       " 'expm1',\n",
       " 'fabs',\n",
       " 'factorial',\n",
       " 'floor',\n",
       " 'fmod',\n",
       " 'frexp',\n",
       " 'fsum',\n",
       " 'gamma',\n",
       " 'gcd',\n",
       " 'hypot',\n",
       " 'inf',\n",
       " 'isclose',\n",
       " 'isfinite',\n",
       " 'isinf',\n",
       " 'isnan',\n",
       " 'isqrt',\n",
       " 'ldexp',\n",
       " 'lgamma',\n",
       " 'log',\n",
       " 'log10',\n",
       " 'log1p',\n",
       " 'log2',\n",
       " 'modf',\n",
       " 'nan',\n",
       " 'perm',\n",
       " 'pi',\n",
       " 'pow',\n",
       " 'prod',\n",
       " 'radians',\n",
       " 'remainder',\n",
       " 'sin',\n",
       " 'sinh',\n",
       " 'sqrt',\n",
       " 'tan',\n",
       " 'tanh',\n",
       " 'tau',\n",
       " 'trunc']"
      ]
     },
     "execution_count": 21,
     "metadata": {},
     "output_type": "execute_result"
    }
   ],
   "source": [
    "dir(math)"
   ]
  },
  {
   "cell_type": "markdown",
   "id": "1144fa82",
   "metadata": {},
   "source": [
    "If you need to get more help with how the function is used, you can use the help() function and write the function inside the function. Remember write the package in front of the the function with a dot point connecting them."
   ]
  },
  {
   "cell_type": "code",
   "execution_count": 25,
   "id": "1e9b6abd",
   "metadata": {},
   "outputs": [
    {
     "name": "stdout",
     "output_type": "stream",
     "text": [
      "Help on built-in function sin in module math:\n",
      "\n",
      "sin(x, /)\n",
      "    Return the sine of x (measured in radians).\n",
      "\n"
     ]
    }
   ],
   "source": [
    "help(math.sin)"
   ]
  },
  {
   "cell_type": "code",
   "execution_count": null,
   "id": "58e6b0ce",
   "metadata": {},
   "outputs": [],
   "source": []
  }
 ],
 "metadata": {
  "kernelspec": {
   "display_name": "Python 3",
   "language": "python",
   "name": "python3"
  },
  "language_info": {
   "codemirror_mode": {
    "name": "ipython",
    "version": 3
   },
   "file_extension": ".py",
   "mimetype": "text/x-python",
   "name": "python",
   "nbconvert_exporter": "python",
   "pygments_lexer": "ipython3",
   "version": "3.8.11"
  }
 },
 "nbformat": 4,
 "nbformat_minor": 5
}
